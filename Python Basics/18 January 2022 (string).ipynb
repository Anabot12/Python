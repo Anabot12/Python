{
 "cells": [
  {
   "cell_type": "code",
   "execution_count": 1,
   "metadata": {},
   "outputs": [
    {
     "name": "stdout",
     "output_type": "stream",
     "text": [
      "helloNature\n",
      "hellohellohello\n",
      "h\n",
      "he\n",
      "True\n",
      "False\n",
      "hello\\tNature\n",
      "hello hi\n"
     ]
    }
   ],
   "source": [
    "#string operators \n",
    "str1 =\"hello\"\n",
    "str2 = \"Nature\"\n",
    "print(str1 + str2 )# (+)called cancatenation\n",
    "print( str1 *3) # (*)\n",
    "print(str1 [0]) #[] (slice)\n",
    "print(str1 [0:2]) # 2nd position element will not be includede (range slicing)\n",
    "print (\"he\" in str1 ) #in(boolean operator)\n",
    "print(\"he\"not in str1) # not in ()\n",
    "print( str1 +r\"\\t\" + str2) # r supress the escape char)\n",
    "print( \"hello %s\" %(\"hi\")) # modulus (%)"
   ]
  },
  {
   "cell_type": "code",
   "execution_count": 1,
   "metadata": {},
   "outputs": [
    {
     "name": "stdout",
     "output_type": "stream",
     "text": [
      "['Python', 'is', 'a', 'fun', 'programming', 'language']\n"
     ]
    }
   ],
   "source": [
    "# split function\n",
    "text = 'Python is a fun programming language'\n",
    "print(text.split(' '))"
   ]
  }
 ],
 "metadata": {
  "interpreter": {
   "hash": "5bb7c3507a1a264403ffe15135e617c42b0804990b25a621a5e07a20ce85bd40"
  },
  "kernelspec": {
   "display_name": "Python 3.10.2 64-bit",
   "language": "python",
   "name": "python3"
  },
  "language_info": {
   "codemirror_mode": {
    "name": "ipython",
    "version": 3
   },
   "file_extension": ".py",
   "mimetype": "text/x-python",
   "name": "python",
   "nbconvert_exporter": "python",
   "pygments_lexer": "ipython3",
   "version": "3.10.2"
  },
  "orig_nbformat": 4
 },
 "nbformat": 4,
 "nbformat_minor": 2
}
