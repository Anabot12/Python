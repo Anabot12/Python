{
 "cells": [
  {
   "cell_type": "code",
   "execution_count": null,
   "metadata": {},
   "outputs": [],
   "source": [
    "#code for assignment 1 python"
   ]
  },
  {
   "cell_type": "code",
   "execution_count": 12,
   "metadata": {},
   "outputs": [
    {
     "name": "stdout",
     "output_type": "stream",
     "text": [
      "total number of alphabets in the string are 37\n"
     ]
    }
   ],
   "source": [
    "#Q2\n",
    "a=input(\"enter the alpha-numeric string\")\n",
    "count=0\n",
    "for i in range(len(a)):\n",
    "    if ((a[i] >='A' and a[i] <='Z') or (a[i] >='a' and a[i] <='z')):\n",
    "        count = count+ 1\n",
    "print(\"total number of alphabets in the string are\",count)\n",
    "    \n",
    "    "
   ]
  },
  {
   "cell_type": "code",
   "execution_count": 18,
   "metadata": {},
   "outputs": [
    {
     "name": "stdout",
     "output_type": "stream",
     "text": [
      "[0.01798620996209156, 0.04742587317756678, 0.11920292202211755, 0.2689414213699951, 0.5, 0.7310585786300049, 0.8807970779778823, 0.9525741268224334, 0.9820137900379085]\n"
     ]
    }
   ],
   "source": [
    "import math\n",
    "\n",
    "def sigmoid(X):\n",
    "     return 1 / (1 + math.exp(-X))\n",
    " \n",
    "a = [-4, -3, -2, -1, 0, 1, 2, 3, 4]\n",
    "it_A=map(sigmoid,a)\n",
    "print(list(it_A))"
   ]
  },
  {
   "cell_type": "code",
   "execution_count": 33,
   "metadata": {},
   "outputs": [
    {
     "name": "stdout",
     "output_type": "stream",
     "text": [
      "enter 0 to enter any integer else enter 1\n",
      "program has ended\n"
     ]
    }
   ],
   "source": [
    "while (True):\n",
    "    print(\"enter 0 to enter any integer else enter 1\")\n",
    "    choice=int(input(\"enter your choice\"))\n",
    "    if choice ==0:\n",
    "        print('Enter a number')\n",
    "        a=int(input('enter any number of your choice'))\n",
    "    if choice==1:\n",
    "        break;\n",
    "print(\"program has ended\")\n"
   ]
  },
  {
   "cell_type": "code",
   "execution_count": 44,
   "metadata": {},
   "outputs": [
    {
     "name": "stdout",
     "output_type": "stream",
     "text": [
      "    * \n",
      "  * * \n",
      "* * * \n"
     ]
    }
   ],
   "source": [
    "rows = int(input(\"enter the number of pyramid  rows you wanna print\"))\n",
    "k= 2 *rows-2\n",
    "for i in range(0, rows):\n",
    "    for j in range(0, k):\n",
    "        print(end=\" \")\n",
    "    k=k-2\n",
    "    for j in range(0, i + 1):\n",
    "        \n",
    "        print(\"* \", end=\"\")\n",
    "    print(\"\")"
   ]
  },
  {
   "cell_type": "code",
   "execution_count": 40,
   "metadata": {},
   "outputs": [
    {
     "name": "stdout",
     "output_type": "stream",
     "text": [
      "* \n",
      "* * \n",
      "* * * \n"
     ]
    }
   ],
   "source": [
    "rows = int(input(\"enter the number of pyramid rows you want to print\"))\n",
    "for j in range(1, rows+1):\n",
    "    print(\"* \" * j)"
   ]
  },
  {
   "cell_type": "code",
   "execution_count": 45,
   "metadata": {},
   "outputs": [
    {
     "name": "stdout",
     "output_type": "stream",
     "text": [
      "The List after removing duplicate is [1, 2, 3, 5, 6, 7]\n"
     ]
    }
   ],
   "source": [
    "a=[1,2,3,3,2,1,3,5,6,7]\n",
    "b=[]\n",
    "for i in a:\n",
    "    if i not in b:\n",
    "        b.append(i)\n",
    "print(\"The List after removing duplicate is\",b)"
   ]
  },
  {
   "cell_type": "code",
   "execution_count": 49,
   "metadata": {},
   "outputs": [
    {
     "name": "stdout",
     "output_type": "stream",
     "text": [
      "{'name': 'abc', 'publisher': 'xyz'}\n",
      "{'name': 'abc', 'publisher': 'xyz', 'pages': 200}\n"
     ]
    }
   ],
   "source": [
    "book_details = {\n",
    "    \"name\" : \"abc\",\n",
    "    \"publisher\" : \"xyz\"}\n",
    "print(book_details)\n",
    "book_details.update({\"pages\":200})\n",
    "print(book_details)\n",
    "    "
   ]
  },
  {
   "cell_type": "code",
   "execution_count": 53,
   "metadata": {},
   "outputs": [
    {
     "name": "stdout",
     "output_type": "stream",
     "text": [
      "[1, 2, 3, 4, 5]\n",
      "[1, 2, 3, 4, 5, 50]\n",
      "[1, 2, 3, 4, 5]\n",
      "[1, 2, 3, 4]\n",
      "[1, 2, 3]\n"
     ]
    }
   ],
   "source": [
    "a=[1,2,3,4,5]\n",
    "print(a)\n",
    "a.append(50)\n",
    "print(a)\n",
    "a.pop(5)\n",
    "print(a)\n",
    "a.pop(4)\n",
    "print(a)\n",
    "a.pop(3)\n",
    "print(a)"
   ]
  }
 ],
 "metadata": {
  "interpreter": {
   "hash": "fa123eaa61a8c39ba75508446fe6ec79af2f89993319b1084b63f1d92867e8b6"
  },
  "kernelspec": {
   "display_name": "Python 3.10.2 64-bit",
   "language": "python",
   "name": "python3"
  },
  "language_info": {
   "codemirror_mode": {
    "name": "ipython",
    "version": 3
   },
   "file_extension": ".py",
   "mimetype": "text/x-python",
   "name": "python",
   "nbconvert_exporter": "python",
   "pygments_lexer": "ipython3",
   "version": "3.10.2"
  },
  "orig_nbformat": 4
 },
 "nbformat": 4,
 "nbformat_minor": 2
}
