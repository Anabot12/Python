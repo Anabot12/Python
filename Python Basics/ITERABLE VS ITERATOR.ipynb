{
 "cells": [
  {
   "cell_type": "code",
   "execution_count": null,
   "metadata": {},
   "outputs": [],
   "source": [
    "#ITERABLE VS ITERATOR"
   ]
  },
  {
   "cell_type": "code",
   "execution_count": null,
   "metadata": {},
   "outputs": [],
   "source": [
    "# Iterable are the objects whose items can be iterated using a loop\n",
    "# for example : strings, list, tuple, set etc \n",
    "\n",
    "for i in \"hello\":\n",
    "    print(i)\n"
   ]
  },
  {
   "cell_type": "code",
   "execution_count": null,
   "metadata": {},
   "outputs": [],
   "source": [
    "# iterable support iter() and next() function to iterate from one itrm to another\n",
    "#iter() function returns an iterator object \n",
    "# next() acess the values of iterator one after another\n",
    "# int object is not iterable so it doesnt support iter() and next ().\n",
    "A=[1,3,5,7,9]\n",
    "it_A =iter(A)\n",
    "print(type(it_A))\n",
    "print(next(it_A))\n",
    "print(next(it_A))\n",
    "\n",
    "B=\"hello\"\n",
    "it_B = iter(B)\n",
    "print(type(it_B))\n",
    "print(next(it_B))\n",
    "print(next(it_B))"
   ]
  },
  {
   "cell_type": "code",
   "execution_count": null,
   "metadata": {},
   "outputs": [],
   "source": [
    "#STOP ITERATION EXCEPTION\n",
    "# if the iterator doesnt have any further elements to call next() then function is stopped \n",
    "#through a stop iteration exception\n",
    "\n",
    "A=\"he\"\n",
    "it_A = iter(A)\n",
    "print(type(it_A))\n",
    "print(next(it_A))\n",
    "print(next(it_A))\n",
    "print(next(it_A))\n"
   ]
  },
  {
   "cell_type": "code",
   "execution_count": null,
   "metadata": {},
   "outputs": [],
   "source": [
    "# DO ITERATORS ARE ITERABLE?\n",
    "#ANS: YES\n",
    "\n",
    "A=[1,3,5,6,8]\n",
    "it_A=iter(A)\n",
    "for i in it_A:\n",
    "    print(i)"
   ]
  },
  {
   "cell_type": "code",
   "execution_count": null,
   "metadata": {},
   "outputs": [],
   "source": [
    "# map() functions\n",
    "# this accepts two parameters, the first parameter can be the map function in any function and second parameter can be any map function but it should be iterable \n",
    "# map() function returns an iterator object only \n",
    "def func(a): # first parameter \n",
    "    return a*a \n",
    "A=[1,2,3,4]\n",
    "it_A = map(func, A) #here it_A is the iterator (second parameter)\n",
    "print(list(it_A))"
   ]
  },
  {
   "cell_type": "code",
   "execution_count": 2,
   "metadata": {},
   "outputs": [
    {
     "name": "stdout",
     "output_type": "stream",
     "text": [
      "[10, 40, 90, 160]\n"
     ]
    }
   ],
   "source": [
    "def func(a,b):\n",
    "    return a*b \n",
    "A=[1,2,3,4]\n",
    "B=[10,20,30,40]\n",
    "it_A = map(func,A,B) # positional parameters \n",
    "print(list(it_A))"
   ]
  },
  {
   "cell_type": "code",
   "execution_count": 3,
   "metadata": {},
   "outputs": [
    {
     "name": "stdout",
     "output_type": "stream",
     "text": [
      "[3, 4, 5]\n"
     ]
    }
   ],
   "source": [
    "#filter() function also accepts two function like on eis name and the other one is the iterable\n",
    "#this function works according to the function which is the first parameter of the filter function \n",
    "#fiter() function passes each item of the iterable to the function and accepts the values which is true.\n",
    " \n",
    "def func(a):\n",
    "    if a>2:\n",
    "        return True\n",
    "    else:\n",
    "        return False\n",
    "it_A = filter(func, [1,2,3,4,5])\n",
    "print(list(it_A))"
   ]
  },
  {
   "cell_type": "code",
   "execution_count": 4,
   "metadata": {},
   "outputs": [
    {
     "name": "stdout",
     "output_type": "stream",
     "text": [
      "[2, 4, 6]\n"
     ]
    }
   ],
   "source": [
    "#to print all the even numbers usimg filter() method\n",
    "def func(a):\n",
    "    if(a%2==0):\n",
    "        return True\n",
    "    else:\n",
    "        return False\n",
    "it_A = filter(func,[1,2,3,4,5,6])\n",
    "print(list(it_A))"
   ]
  },
  {
   "cell_type": "code",
   "execution_count": 6,
   "metadata": {},
   "outputs": [
    {
     "name": "stdout",
     "output_type": "stream",
     "text": [
      "[1, 3, 5]\n"
     ]
    }
   ],
   "source": [
    "# to print all the odd numbers in the list A=[1,2,3,4,5] using only modulus operator(without using ! operator)\n",
    "def func(a):\n",
    "    if (a%2):\n",
    "        return True \n",
    "it_A = filter(func,[1,2,3,4,5])\n",
    "print(list(it_A))"
   ]
  },
  {
   "cell_type": "code",
   "execution_count": null,
   "metadata": {},
   "outputs": [],
   "source": [
    "#WAP to find out all the vowels in the string\"hello how are you\" and print all the vowels(using filter function)\n",
    "# moreover remove the duplicates and re print the result(using loop)\n",
    "\n",
    "def func(a):\n",
    "    vowel = ['a','e','i','o','u']\n",
    "    if a in vowel:\n",
    "        return True\n",
    "    else:\n",
    "        return False\n",
    "s=\"hello how are you\"\n",
    "it_S = filter (func,s)\n",
    "l_S= list(it_S)\n",
    "print(l_S)\n",
    "l=[]\n",
    "for i in l_S:\n",
    "    if (i not in l):  # for printing the list without duplicates\n",
    "        l.append(i)\n",
    "print(l)\n"
   ]
  },
  {
   "cell_type": "code",
   "execution_count": 14,
   "metadata": {},
   "outputs": [
    {
     "name": "stdout",
     "output_type": "stream",
     "text": [
      "10\n",
      "hello\n",
      "50\n",
      "50\n"
     ]
    }
   ],
   "source": [
    "# Lambda function is a function with no name and can be defined without lambda keyword \n",
    "#this function can save as many arguements but will have only one expression \n",
    "#arguements: expression(syntax)\n",
    "x= lambda a,b : a*b \n",
    "print(x(2,5))\n",
    "# OR\n",
    "(lambda a,b : a*b)(2,6) #(without using any identifier)\n",
    "\n",
    "a=\"hello\"\n",
    "(lambda x :print(x))(a)\n",
    "\n",
    "a=(lambda y: 30+y)(20)\n",
    "print(a)\n",
    "\n",
    "a=(lambda y=20 : 30+y)\n",
    "print(a())"
   ]
  },
  {
   "cell_type": "code",
   "execution_count": null,
   "metadata": {},
   "outputs": [],
   "source": [
    "# for lambda function only \n",
    "a=(lambda y: 30+y)(20)\n",
    "print(a)\n",
    "b=(lambda y=10,: 30+y)(20)\n",
    "print(b)\n",
    "c=(lambda y=10:30+y)()\n",
    "print(c)"
   ]
  },
  {
   "cell_type": "code",
   "execution_count": 22,
   "metadata": {},
   "outputs": [
    {
     "name": "stdout",
     "output_type": "stream",
     "text": [
      "20\n",
      "[1, 4, 9, 16]\n",
      "4\n",
      "[1, 4, 9, 16]\n",
      "[3, 4, 5]\n"
     ]
    }
   ],
   "source": [
    "# the lambda function can be used with another function like filter\n",
    "\n",
    "def func(a):\n",
    "    return lambda x:x*a \n",
    "y=func(10)\n",
    "print(y(2))\n",
    "\n",
    "# using lambda function in map()\n",
    "\n",
    "A=[1,2,3,4]\n",
    "def func(a):\n",
    "    return a*a \n",
    "it= map(func, A)\n",
    "print(list(it))\n",
    "\n",
    "x= lambda a:a*a \n",
    "print(x(2))\n",
    "\n",
    "A=[1,2,3,4]\n",
    "it= map(lambda a:a*a, A)\n",
    "print(list(it))\n",
    "\n",
    "# using lambda function in filter()\n",
    "\n",
    "it_A = filter(lambda a: True if (a>2) else False, [1,2,3,4,5])\n",
    "print(list(it_A))"
   ]
  }
 ],
 "metadata": {
  "interpreter": {
   "hash": "fa123eaa61a8c39ba75508446fe6ec79af2f89993319b1084b63f1d92867e8b6"
  },
  "kernelspec": {
   "display_name": "Python 3.10.2 64-bit",
   "language": "python",
   "name": "python3"
  },
  "language_info": {
   "codemirror_mode": {
    "name": "ipython",
    "version": 3
   },
   "file_extension": ".py",
   "mimetype": "text/x-python",
   "name": "python",
   "nbconvert_exporter": "python",
   "pygments_lexer": "ipython3",
   "version": "3.10.2"
  },
  "orig_nbformat": 4
 },
 "nbformat": 4,
 "nbformat_minor": 2
}
