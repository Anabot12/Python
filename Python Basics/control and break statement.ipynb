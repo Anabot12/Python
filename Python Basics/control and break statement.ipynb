{
 "cells": [
  {
   "cell_type": "code",
   "execution_count": 3,
   "metadata": {},
   "outputs": [
    {
     "name": "stdout",
     "output_type": "stream",
     "text": [
      "wrong input1times\n",
      "wrong input2times\n",
      "ok\n",
      "ok\n",
      "ok\n"
     ]
    }
   ],
   "source": [
    "#BREAK STATEMENT \n",
    "i=0\n",
    "count=0;     #python is dynamically type lang(therefore we dont need to specify int type things) that is why no data type is needed to tell the complier or the interpreter that what kind of variable it is \n",
    "while(i<5):\n",
    "    a=int(input()) #while taking input (a) we are doing explicit conversion from string to integer\n",
    "    if a<3: \n",
    "        #if we take input as 1 then it will print wrong output and while increment the value to (count )0+1=1\n",
    "        #when we take imput as 4 then it will print ok\n",
    "        count=count+1;\n",
    "        print(f\"wrong input{count}times\")\n",
    "    else:\n",
    "        print(\"ok\")\n",
    "    if count==3:\n",
    "        print(\"limit exceeded\")\n",
    "        break\n",
    "    i=i+1\n",
    "    \n",
    " # both break and continue use error if we use it with if loop\n",
    " # in this code the incorrect values is less than 3 so if we put more wrong values than 3 then the prog will terminate    "
   ]
  },
  {
   "cell_type": "code",
   "execution_count": 9,
   "metadata": {},
   "outputs": [
    {
     "name": "stdout",
     "output_type": "stream",
     "text": [
      "input 1 to break the trap\n",
      "input 1 to break the trap\n",
      "input 1 to break the trap\n",
      "you have broken the trap:)\n"
     ]
    }
   ],
   "source": [
    "#CONTINUE AND BREAK STATEMENT\n",
    "while(1): # it will run infinitely/ not terminating \n",
    "    print(\"input 1 to break the trap\") \n",
    "    a=int(input()) # will ask for input..for eg we enter 2 then it will go to the else part continue the loop and take it to the while loop till we enter 1 as in input \n",
    "    if a==1:\n",
    "        print(\"you have broken the trap:)\")\n",
    "        break\n",
    "    else:\n",
    "        continue\n"
   ]
  }
 ],
 "metadata": {
  "interpreter": {
   "hash": "fa123eaa61a8c39ba75508446fe6ec79af2f89993319b1084b63f1d92867e8b6"
  },
  "kernelspec": {
   "display_name": "Python 3.10.2 64-bit",
   "language": "python",
   "name": "python3"
  },
  "language_info": {
   "codemirror_mode": {
    "name": "ipython",
    "version": 3
   },
   "file_extension": ".py",
   "mimetype": "text/x-python",
   "name": "python",
   "nbconvert_exporter": "python",
   "pygments_lexer": "ipython3",
   "version": "3.10.2"
  },
  "orig_nbformat": 4
 },
 "nbformat": 4,
 "nbformat_minor": 2
}
