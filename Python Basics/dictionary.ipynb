{
 "cells": [
  {
   "cell_type": "code",
   "execution_count": null,
   "metadata": {},
   "outputs": [],
   "source": [
    "# Dictionary\n",
    "\n",
    "# stores data in key:value pair form\n",
    "# doesn't allow duplicate data\n",
    "# mutable\n",
    "# initialized using {a:1, b:2} and so on"
   ]
  },
  {
   "cell_type": "code",
   "execution_count": 1,
   "metadata": {},
   "outputs": [
    {
     "name": "stdout",
     "output_type": "stream",
     "text": [
      "{'model': 2020, 'color': 'white', 'company': 'maruti', 'fuel': 'petrol', 'owner_name': 'xyz', 'total_item': [1, 2, 3, 4, 5, 6]}\n",
      "2020\n"
     ]
    },
    {
     "ename": "TypeError",
     "evalue": "'int' object is not subscriptable",
     "output_type": "error",
     "traceback": [
      "\u001b[1;31m---------------------------------------------------------------------------\u001b[0m",
      "\u001b[1;31mTypeError\u001b[0m                                 Traceback (most recent call last)",
      "\u001b[1;32mc:\\Users\\dell\\Desktop\\code\\Python\\dictionary.ipynb Cell 2'\u001b[0m in \u001b[0;36m<module>\u001b[1;34m\u001b[0m\n\u001b[0;32m     <a href='vscode-notebook-cell:/c%3A/Users/dell/Desktop/code/Python/dictionary.ipynb#ch0000001?line=12'>13</a>\u001b[0m \u001b[39mprint\u001b[39m (car_details)\n\u001b[0;32m     <a href='vscode-notebook-cell:/c%3A/Users/dell/Desktop/code/Python/dictionary.ipynb#ch0000001?line=13'>14</a>\u001b[0m \u001b[39mprint\u001b[39m (car_details[\u001b[39m\"\u001b[39m\u001b[39mmodel\u001b[39m\u001b[39m\"\u001b[39m])\n\u001b[1;32m---> <a href='vscode-notebook-cell:/c%3A/Users/dell/Desktop/code/Python/dictionary.ipynb#ch0000001?line=14'>15</a>\u001b[0m \u001b[39mprint\u001b[39m (car_details[\u001b[39m\"\u001b[39;49m\u001b[39mmodel\u001b[39;49m\u001b[39m\"\u001b[39;49m][\u001b[39m\"\u001b[39;49m\u001b[39myear\u001b[39;49m\u001b[39m\"\u001b[39;49m])\n\u001b[0;32m     <a href='vscode-notebook-cell:/c%3A/Users/dell/Desktop/code/Python/dictionary.ipynb#ch0000001?line=15'>16</a>\u001b[0m \u001b[39mprint\u001b[39m (\u001b[39mlen\u001b[39m(car_details))\n",
      "\u001b[1;31mTypeError\u001b[0m: 'int' object is not subscriptable"
     ]
    }
   ],
   "source": [
    "# example\n",
    "\n",
    "car_details = {\n",
    "    \"model\" : {\"year\" : 2019, \"series\" : \"sigma\"},\n",
    "    \"color\" : \"white\",\n",
    "    \"company\" : \"maruti\",\n",
    "    \"fuel\" : \"petrol\",\n",
    "    \"owner_name\" : \"xyz\",\n",
    "    \"total_item\" : [1, 2, 3, 4, 5, 6]\n",
    "}\n",
    "\n",
    "car_details[\"model\"] = 2020 #mutability\n",
    "print (car_details)\n",
    "print (car_details[\"model\"])\n",
    "print (car_details[\"model\"][\"year\"])\n",
    "print (len(car_details)) # print number of items in the dictionary"
   ]
  },
  {
   "cell_type": "code",
   "execution_count": null,
   "metadata": {},
   "outputs": [],
   "source": [
    "# accessing elements in the dictionary\n",
    "\n",
    "A = {\"A\":\"a\", \"B\":\"b\", \"C\":\"c\", \"D\":\"d\"}\n",
    "\n",
    "print (A.get(\"A\"))\n",
    "print (A[\"A\"]) # both statements are the same\n",
    "\n",
    "x = A.key() # return list of all the keys\n",
    "print (x)\n",
    "\n",
    "x = A.values() # return list of all the values\n",
    "print (x)\n",
    "\n",
    "x = A.items() # return each item in the dictionary as tuple in list\n",
    "print (x)"
   ]
  },
  {
   "cell_type": "code",
   "execution_count": null,
   "metadata": {},
   "outputs": [],
   "source": [
    "# adding items\n",
    "\n",
    "car_details = {\n",
    "    \"model\" : {\"year\" : 2019, \"series\" : \"sigma\"},\n",
    "    \"color\" : \"white\",\n",
    "    \"company\" : \"maruti\",\n",
    "    \"fuel\" : \"petrol\",\n",
    "    \"owner_name\" : \"xyz\",\n",
    "    \"total_item\" : [1, 2, 3, 4, 5, 6]\n",
    "}\n",
    "\n",
    "print (len(car_details))\n",
    "\n",
    "car_details[\"owner_number\"] = 546879\n",
    "print (len(car_details))\n",
    "\n",
    "car_details.update({\"PAN\" : \"DFTRH19197\"}) # can be done using update() too\n",
    "print (len(car_details))"
   ]
  },
  {
   "cell_type": "code",
   "execution_count": null,
   "metadata": {},
   "outputs": [],
   "source": [
    "# removing items\n",
    "\n",
    "car_details = {\n",
    "    \"model\" : {\"year\" : 2019, \"series\" : \"sigma\"},\n",
    "    \"color\" : \"white\",\n",
    "    \"company\" : \"maruti\",\n",
    "    \"fuel\" : \"petrol\",\n",
    "    \"owner_name\" : \"xyz\",\n",
    "    \"PAN\" : \"OLKIH6773W\"\n",
    "}\n",
    "\n",
    "car_details.pop(\"model\") # pop() removes the specific element from the dictionary\n",
    "print (car_details)\n",
    "\n",
    "car_details.popitem() # remove the last element\n",
    "print (car_details)\n",
    "\n",
    "del car_details[\"fuel\"] # del deletes specific key\n",
    "print (car_details)\n",
    "# del car_details can be used to delete the whole dictionary\n",
    "\n",
    "car_details.clear() # used to clear all items from the dictionary\n",
    "print (car_details)"
   ]
  },
  {
   "cell_type": "code",
   "execution_count": 1,
   "metadata": {},
   "outputs": [
    {
     "name": "stdout",
     "output_type": "stream",
     "text": [
      "a b C d e "
     ]
    }
   ],
   "source": [
    "# loops in dictionary \n",
    "A={1:\"a\",2:\"b\",3:\"C\",4:\"d\",5:\"e\"}\n",
    "for i in A:\n",
    "    print(A[i], end=\" \"\n",
    "          )"
   ]
  },
  {
   "cell_type": "code",
   "execution_count": 7,
   "metadata": {},
   "outputs": [
    {
     "name": "stdout",
     "output_type": "stream",
     "text": [
      "a b c d e \n",
      "1 2 3 4 5 \n",
      "(1, 'a') (2, 'b') (3, 'c') (4, 'd') (5, 'e') key is A and value is a\n",
      "key is B and value is b\n",
      "key is C and value is c\n",
      "key is D and value is d\n"
     ]
    }
   ],
   "source": [
    "#another example for loops in dictionary \n",
    "A={1:\"a\",2:\"b\",3:\"c\",4:\"d\",5:\"e\"}\n",
    "for i in A.values():\n",
    "    print(i, end=' ')\n",
    "print()\n",
    "for i in A.keys():\n",
    "    print( i, end=' ')\n",
    "print()\n",
    "for i in A.items():\n",
    "    print(i, end=' ')    \n",
    "    \n",
    "A= {\"A\":\"a\",\"B\":\"b\",\"C\":\"c\",\"D\":\"d\"}\n",
    "for i in A:\n",
    "    print(f\"key is {i} and value is {A[i]}\")"
   ]
  },
  {
   "cell_type": "code",
   "execution_count": 9,
   "metadata": {},
   "outputs": [
    {
     "name": "stdout",
     "output_type": "stream",
     "text": [
      "{1: 'a', 2: 'b', 3: 'c', 4: 'd', 5: 'e'}\n"
     ]
    }
   ],
   "source": [
    "#copying a dictionary\n",
    "A={1:\"a\",2:\"b\",3:\"c\",4:\"d\",5:\"e\"}\n",
    "B=A.copy()\n",
    "print(B)"
   ]
  },
  {
   "cell_type": "code",
   "execution_count": 20,
   "metadata": {},
   "outputs": [
    {
     "ename": "ValueError",
     "evalue": "dictionary update sequence element #0 has length 1; 2 is required",
     "output_type": "error",
     "traceback": [
      "\u001b[1;31m---------------------------------------------------------------------------\u001b[0m",
      "\u001b[1;31mValueError\u001b[0m                                Traceback (most recent call last)",
      "Input \u001b[1;32mIn [20]\u001b[0m, in \u001b[0;36m<module>\u001b[1;34m\u001b[0m\n\u001b[0;32m      1\u001b[0m \u001b[38;5;66;03m#User define dictionary \u001b[39;00m\n\u001b[0;32m      2\u001b[0m \n\u001b[0;32m      3\u001b[0m \n\u001b[0;32m      4\u001b[0m \n\u001b[0;32m      5\u001b[0m \u001b[38;5;66;03m#to write this in one line \u001b[39;00m\n\u001b[1;32m----> 6\u001b[0m d\u001b[38;5;241m=\u001b[39m\u001b[38;5;28;43mdict\u001b[39;49m\u001b[43m(\u001b[49m\u001b[43m(\u001b[49m\u001b[38;5;28;43minput\u001b[39;49m\u001b[43m(\u001b[49m\u001b[43m)\u001b[49m\u001b[38;5;241;43m.\u001b[39;49m\u001b[43msplit\u001b[49m\u001b[43m(\u001b[49m\u001b[38;5;124;43m\"\u001b[39;49m\u001b[38;5;124;43m:\u001b[39;49m\u001b[38;5;124;43m\"\u001b[39;49m\u001b[43m)\u001b[49m\u001b[38;5;28;43;01mfor\u001b[39;49;00m\u001b[43m \u001b[49m\u001b[43mx\u001b[49m\u001b[43m \u001b[49m\u001b[38;5;129;43;01min\u001b[39;49;00m\u001b[43m \u001b[49m\u001b[38;5;28;43mrange\u001b[39;49m\u001b[43m(\u001b[49m\u001b[38;5;241;43m3\u001b[39;49m\u001b[43m)\u001b[49m\u001b[43m)\u001b[49m\u001b[43m)\u001b[49m\n\u001b[0;32m      7\u001b[0m \u001b[38;5;28mprint\u001b[39m(d)\n",
      "\u001b[1;31mValueError\u001b[0m: dictionary update sequence element #0 has length 1; 2 is required"
     ]
    }
   ],
   "source": [
    "#User define dictionary \n",
    "n=int(input(\"enter a value n:\"))\n",
    "d={}\n",
    "for i in range(n):\n",
    "    key=input()\n",
    "    value=input()\n",
    "    d[key]=value\n",
    "print(d)\n",
    "\n",
    "\n",
    "#to write this in one line \n",
    "d=dict((input().split(\":\")for x in range(3)))\n",
    "print(d)\n",
    "\n",
    "\n"
   ]
  },
  {
   "cell_type": "code",
   "execution_count": null,
   "metadata": {},
   "outputs": [],
   "source": []
  }
 ],
 "metadata": {
  "interpreter": {
   "hash": "fa123eaa61a8c39ba75508446fe6ec79af2f89993319b1084b63f1d92867e8b6"
  },
  "kernelspec": {
   "display_name": "Python 3.10.2 64-bit",
   "language": "python",
   "name": "python3"
  },
  "language_info": {
   "codemirror_mode": {
    "name": "ipython",
    "version": 3
   },
   "file_extension": ".py",
   "mimetype": "text/x-python",
   "name": "python",
   "nbconvert_exporter": "python",
   "pygments_lexer": "ipython3",
   "version": "3.10.2"
  },
  "orig_nbformat": 4
 },
 "nbformat": 4,
 "nbformat_minor": 2
}
