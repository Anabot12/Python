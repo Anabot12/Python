{
 "cells": [
  {
   "cell_type": "code",
   "execution_count": null,
   "metadata": {},
   "outputs": [],
   "source": [
    "# exception handling in python\n",
    "# event that occurs during the execution of the program\n",
    "#TRY- a whole prog can be in tru and the code can be checked for error\n",
    "#EXCEPT- the exception in the try block will be exceuted by except\n",
    "#FINALLY-code will execute regradless of any result of try or except\n",
    "#ELSE-if the prog doesnt raise any exception so this is used \n",
    " "
   ]
  },
  {
   "cell_type": "code",
   "execution_count": 1,
   "metadata": {},
   "outputs": [
    {
     "ename": "SyntaxError",
     "evalue": "invalid syntax (4271603481.py, line 1)",
     "output_type": "error",
     "traceback": [
      "\u001b[1;36m  Input \u001b[1;32mIn [1]\u001b[1;36m\u001b[0m\n\u001b[1;33m    num_list = [1,2,3,4,5] num_list.remove(2) print(num_list)\u001b[0m\n\u001b[1;37m                           ^\u001b[0m\n\u001b[1;31mSyntaxError\u001b[0m\u001b[1;31m:\u001b[0m invalid syntax\n"
     ]
    }
   ],
   "source": [
    "num_list = [1,2,3,4,5] num_list.remove(2) print(num_list) "
   ]
  },
  {
   "cell_type": "code",
   "execution_count": null,
   "metadata": {},
   "outputs": [],
   "source": [
    "#SYNTAX FOR EXCEPTION HANDLING\n",
    "#try- code to be monitored \n",
    "#except- handle exception\n",
    "#else- execute if no exception\n",
    "# finaly- the code will finally execute\n",
    "\n",
    "def alter_fun(y):\n",
    "    print(y)\n",
    "def fun():\n",
    "    print(\"no eception occures in the program\")"
   ]
  },
  {
   "cell_type": "code",
   "execution_count": 1,
   "metadata": {},
   "outputs": [
    {
     "name": "stdout",
     "output_type": "stream",
     "text": [
      "exception occured\n"
     ]
    }
   ],
   "source": [
    "x=100\n",
    "try:\n",
    "    x=200+\"hello\"\n",
    "except:\n",
    "    (print(\"exception occured\"))\n",
    "else:\n",
    "    print(x)"
   ]
  },
  {
   "cell_type": "code",
   "execution_count": 3,
   "metadata": {},
   "outputs": [
    {
     "name": "stdout",
     "output_type": "stream",
     "text": [
      "200\n",
      "no exception occured in the program\n"
     ]
    }
   ],
   "source": [
    "def alter_func(y):\n",
    "    print(y)\n",
    "def func():\n",
    "    print(\"no exception occured in the program\")\n",
    "try:\n",
    "    _x=200  \n",
    "    print(x) #NAME ERROR (the x in both the statement is different )\n",
    "except:\n",
    "    print(\"exception occured\")\n",
    "    alter_func(100)\n",
    "else:\n",
    "    func()"
   ]
  },
  {
   "cell_type": "code",
   "execution_count": 2,
   "metadata": {},
   "outputs": [
    {
     "name": "stdout",
     "output_type": "stream",
     "text": [
      "exception occured\n"
     ]
    }
   ],
   "source": [
    "try:\n",
    "    print(x)\n",
    "except:\n",
    "    print(\"exception occured\")"
   ]
  },
  {
   "cell_type": "code",
   "execution_count": 5,
   "metadata": {},
   "outputs": [
    {
     "name": "stdout",
     "output_type": "stream",
     "text": [
      "200\n"
     ]
    }
   ],
   "source": [
    "x=100\n",
    "try:\n",
    "    x=200 \n",
    "except:\n",
    "    print(\"exception occured\")\n",
    "else:\n",
    "    print(x)\n",
    "    "
   ]
  },
  {
   "cell_type": "code",
   "execution_count": null,
   "metadata": {},
   "outputs": [],
   "source": [
    "#FROM HERE\n",
    "#slide 6"
   ]
  },
  {
   "cell_type": "code",
   "execution_count": null,
   "metadata": {},
   "outputs": [],
   "source": [
    "c=0\n",
    "try:\n",
    "    x=int(input())\n",
    "except:\n",
    "    print(\"exception occured : integer input is required \")\n",
    "    c=c+1\n",
    "else:\n",
    "    print(x)\n",
    "finally:\n",
    "    print(\"failed\") if c else print(\"passed\")"
   ]
  },
  {
   "cell_type": "code",
   "execution_count": 34,
   "metadata": {},
   "outputs": [
    {
     "name": "stdout",
     "output_type": "stream",
     "text": [
      "11\n",
      "13\n",
      "15\n"
     ]
    }
   ],
   "source": [
    "my_list = [11, 12, 13, 14, 15]\n",
    "i = 0\n",
    "while(i < len(my_list)):\n",
    "    print(my_list[i])\n",
    "    i+=2"
   ]
  },
  {
   "cell_type": "code",
   "execution_count": null,
   "metadata": {},
   "outputs": [],
   "source": [
    "#catching specific exception\n",
    "try:\n",
    "    x=int(input()) \n",
    "except IndexError:\n",
    "    print(\"index error occured\")\n",
    "except ValueError:\n",
    "    print(\"value error occured\")\n",
    "else:\n",
    "    print(x)"
   ]
  },
  {
   "cell_type": "code",
   "execution_count": null,
   "metadata": {},
   "outputs": [],
   "source": [
    "#name error \n",
    "\n",
    "#1. misspelled built ins\n",
    "\n",
    "try:\n",
    "    prmint(\"hello\")\n",
    "except NameError as a : #solving the error \n",
    "    print(a)"
   ]
  },
  {
   "cell_type": "code",
   "execution_count": 36,
   "metadata": {},
   "outputs": [
    {
     "ename": "SyntaxError",
     "evalue": "invalid syntax (4096260405.py, line 2)",
     "output_type": "error",
     "traceback": [
      "\u001b[1;36m  Input \u001b[1;32mIn [36]\u001b[1;36m\u001b[0m\n\u001b[1;33m    i+\u001b[0m\n\u001b[1;37m      ^\u001b[0m\n\u001b[1;31mSyntaxError\u001b[0m\u001b[1;31m:\u001b[0m invalid syntax\n"
     ]
    }
   ],
   "source": [
    "i=1\n",
    "i++\n",
    "print(i)"
   ]
  },
  {
   "cell_type": "code",
   "execution_count": null,
   "metadata": {},
   "outputs": [],
   "source": [
    "try:\n",
    "    print(a)\n",
    "    a=\"hello\"\n",
    "except NameError as x:\n",
    "    print(x)\n",
    "finally:\n",
    "    print(\"hello\")\n",
    "    "
   ]
  },
  {
   "cell_type": "code",
   "execution_count": null,
   "metadata": {},
   "outputs": [],
   "source": [
    "#value error\n",
    "#this error exists when we perform the operation and the value doesnt exist\n",
    "\n",
    "import math\n",
    "try:\n",
    "    a=math.sqrt(-4) #this returns the square root of the number \n",
    "except(TypeError, ValueError) as e:\n",
    "    print(e)\n",
    "else:\n",
    "    print(a)\n"
   ]
  },
  {
   "cell_type": "code",
   "execution_count": null,
   "metadata": {},
   "outputs": [],
   "source": [
    "#Type error\n",
    "x=100\n",
    "y=\"hello\"+x\n",
    "print(y)\n",
    "#in this along with integer you cant add a string"
   ]
  },
  {
   "cell_type": "code",
   "execution_count": null,
   "metadata": {},
   "outputs": [],
   "source": [
    "try:\n",
    "    x=100\n",
    "    y=\"hello\"+x\n",
    "except(IndexError,NameError,ValueError,TypeError) as error:\n",
    "    print(error)\n",
    "else:\n",
    "    print(y)"
   ]
  },
  {
   "cell_type": "code",
   "execution_count": null,
   "metadata": {},
   "outputs": [],
   "source": [
    "def alternate():\n",
    "    x=input()\n",
    "    y=input()\n",
    "    print(x+y)\n",
    "try:\n",
    "    x=100\n",
    "    y=\"hello\"+x\n",
    "except(IndexError,NameError,ValueError,TypeError) as error:\n",
    "    print(error)\n",
    "    alternate()\n",
    "else:\n",
    "    print(y)"
   ]
  },
  {
   "cell_type": "code",
   "execution_count": null,
   "metadata": {},
   "outputs": [],
   "source": [
    "try:\n",
    "    print(x)\n",
    "finally:\n",
    "    print(\"how are you\")\n",
    "    "
   ]
  },
  {
   "cell_type": "code",
   "execution_count": null,
   "metadata": {},
   "outputs": [],
   "source": [
    "try:\n",
    "    print(x)\n",
    "except:\n",
    "    print(\"this is exception\")\n",
    "    "
   ]
  },
  {
   "cell_type": "code",
   "execution_count": null,
   "metadata": {},
   "outputs": [],
   "source": [
    "try:\n",
    "    x=100\n",
    "    y=\"hello\"+x\n",
    "except ()"
   ]
  },
  {
   "cell_type": "code",
   "execution_count": 1,
   "metadata": {},
   "outputs": [
    {
     "ename": "TypeError",
     "evalue": "'tuple' object does not support item assignment",
     "output_type": "error",
     "traceback": [
      "\u001b[1;31m---------------------------------------------------------------------------\u001b[0m",
      "\u001b[1;31mTypeError\u001b[0m                                 Traceback (most recent call last)",
      "\u001b[1;32mc:\\Users\\dell\\Desktop\\code\\Python\\UNIT-3 (exception handling)\\exception handling.ipynb Cell 21'\u001b[0m in \u001b[0;36m<module>\u001b[1;34m\u001b[0m\n\u001b[0;32m      <a href='vscode-notebook-cell:/c%3A/Users/dell/Desktop/code/Python/UNIT-3%20%28exception%20handling%29/exception%20handling.ipynb#ch0000020?line=0'>1</a>\u001b[0m a \u001b[39m=\u001b[39m (\u001b[39m1\u001b[39m, \u001b[39m2\u001b[39m)\n\u001b[1;32m----> <a href='vscode-notebook-cell:/c%3A/Users/dell/Desktop/code/Python/UNIT-3%20%28exception%20handling%29/exception%20handling.ipynb#ch0000020?line=2'>3</a>\u001b[0m a[\u001b[39m0\u001b[39m] \u001b[39m+\u001b[39m\u001b[39m=\u001b[39m\u001b[39m1\u001b[39m\n",
      "\u001b[1;31mTypeError\u001b[0m: 'tuple' object does not support item assignment"
     ]
    }
   ],
   "source": [
    "a = (1, 2)\n",
    "\n",
    "a[0] +=1"
   ]
  },
  {
   "cell_type": "code",
   "execution_count": 2,
   "metadata": {},
   "outputs": [
    {
     "name": "stdout",
     "output_type": "stream",
     "text": [
      "The sum of 2 and 10 is 12\n"
     ]
    }
   ],
   "source": [
    "print('The sum of {0} and {1} is {2}'.format(2, 10, 12))\n"
   ]
  },
  {
   "cell_type": "code",
   "execution_count": 3,
   "metadata": {},
   "outputs": [
    {
     "ename": "SyntaxError",
     "evalue": "invalid syntax (155037084.py, line 1)",
     "output_type": "error",
     "traceback": [
      "\u001b[1;36m  Input \u001b[1;32mIn [3]\u001b[1;36m\u001b[0m\n\u001b[1;33m    func = lambda x: return x\u001b[0m\n\u001b[1;37m                     ^\u001b[0m\n\u001b[1;31mSyntaxError\u001b[0m\u001b[1;31m:\u001b[0m invalid syntax\n"
     ]
    }
   ],
   "source": [
    "func = lambda x: return x\n",
    "\n",
    "print(func(2))\n"
   ]
  },
  {
   "cell_type": "code",
   "execution_count": 4,
   "metadata": {},
   "outputs": [
    {
     "name": "stdout",
     "output_type": "stream",
     "text": [
      "0\n",
      "1\n"
     ]
    }
   ],
   "source": [
    "for i in range(int(2.0)):\n",
    "    \n",
    "  print(i)"
   ]
  },
  {
   "cell_type": "code",
   "execution_count": 5,
   "metadata": {},
   "outputs": [
    {
     "name": "stdout",
     "output_type": "stream",
     "text": [
      "{'blue', 'pinl'}\n"
     ]
    }
   ],
   "source": [
    "set1={\"yellow\",\"orange\",\"black\"}\n",
    "set2={\"orange\",\"blue\",\"pinl\"}\n",
    "set3=set2.difference(set1)\n",
    "print(set3)"
   ]
  },
  {
   "cell_type": "code",
   "execution_count": 8,
   "metadata": {},
   "outputs": [
    {
     "name": "stdout",
     "output_type": "stream",
     "text": [
      "10 10 20 30 30 40 "
     ]
    }
   ],
   "source": [
    "a=[10,10,20,30,30,40]\n",
    "b=set(a)\n",
    "def test(lst):\n",
    "    if lst in b:\n",
    "        return 1\n",
    "    else:\n",
    "        return 0\n",
    "for i in filter(test,a):\n",
    "    print(i,end=\" \")"
   ]
  },
  {
   "cell_type": "code",
   "execution_count": 10,
   "metadata": {},
   "outputs": [
    {
     "name": "stdout",
     "output_type": "stream",
     "text": [
      "012"
     ]
    }
   ],
   "source": [
    "for i in range(5):\n",
    "    \n",
    " if i == 3 or i == 4:\n",
    "     continue\n",
    " print(i, end = '')"
   ]
  },
  {
   "cell_type": "code",
   "execution_count": 11,
   "metadata": {},
   "outputs": [
    {
     "name": "stdout",
     "output_type": "stream",
     "text": [
      "k\n"
     ]
    }
   ],
   "source": [
    "nameList = ['Harsh', 'Pratik', 'Aman', 'Amit']\n",
    "\n",
    "print (nameList[1][-1] )"
   ]
  },
  {
   "cell_type": "code",
   "execution_count": 12,
   "metadata": {},
   "outputs": [
    {
     "name": "stdout",
     "output_type": "stream",
     "text": [
      "[1, 5, 9, 11, 13]\n"
     ]
    }
   ],
   "source": [
    "A = [1,4,5,8,9,11,13,12]\n",
    "\n",
    "A1 = [x for x in A if x%2]\n",
    "\n",
    "print(A1)"
   ]
  },
  {
   "cell_type": "code",
   "execution_count": 14,
   "metadata": {},
   "outputs": [
    {
     "name": "stdout",
     "output_type": "stream",
     "text": [
      "a\n",
      "b\n",
      "c\n",
      "d\n"
     ]
    }
   ],
   "source": [
    "x = 'abcd'\n",
    "\n",
    "for i in x:\n",
    "    print(i)\n",
    "    x.upper()"
   ]
  },
  {
   "cell_type": "code",
   "execution_count": 15,
   "metadata": {},
   "outputs": [
    {
     "name": "stdout",
     "output_type": "stream",
     "text": [
      "1\n"
     ]
    }
   ],
   "source": [
    "a = [10, 11, 12, 13, 45, 2, 3, 1]\n",
    "\n",
    "if 1 in a:\n",
    "\n",
    " print(f\"{1}\")\n",
    "\n",
    "else:\n",
    "\n",
    " print(f\"{0}\")"
   ]
  },
  {
   "cell_type": "code",
   "execution_count": 16,
   "metadata": {},
   "outputs": [
    {
     "name": "stdout",
     "output_type": "stream",
     "text": [
      "3 2 01\n"
     ]
    }
   ],
   "source": [
    "dict1={\"a\":10,\"b\":2,\"c\":3}\n",
    "str1=\"\"\n",
    "for i in dict1:\n",
    "    str1=str1+str(dict1[i])+ \" \"\n",
    "    str2=str1[:-1]\n",
    "print(str2[: : -1])"
   ]
  },
  {
   "cell_type": "code",
   "execution_count": 17,
   "metadata": {},
   "outputs": [
    {
     "name": "stdout",
     "output_type": "stream",
     "text": [
      "{2, 3}\n"
     ]
    }
   ],
   "source": [
    "set1={2,5,3}\n",
    "set2={3,1,2}\n",
    "set3={}\n",
    "set3=set1&set2\n",
    "print(set3)"
   ]
  },
  {
   "cell_type": "code",
   "execution_count": 18,
   "metadata": {},
   "outputs": [
    {
     "name": "stdout",
     "output_type": "stream",
     "text": [
      "[1, 2, 3, 4, 5]\n"
     ]
    }
   ],
   "source": [
    "a=[1, 2, 3, 4, 5,2, 3, 4, 1, 2, 3, 4]\n",
    "\n",
    "b=[]\n",
    "\n",
    "for i in a:\n",
    "\n",
    " if i not in b:\n",
    "\n",
    "  b.append(i)\n",
    "\n",
    "print(b)"
   ]
  },
  {
   "cell_type": "code",
   "execution_count": 20,
   "metadata": {},
   "outputs": [
    {
     "name": "stdout",
     "output_type": "stream",
     "text": [
      "100\n"
     ]
    }
   ],
   "source": [
    "def f1():\n",
    "    \n",
    "  x=100\n",
    "\n",
    "  print(x)\n",
    "\n",
    "x=+1\n",
    "\n",
    "f1()"
   ]
  },
  {
   "cell_type": "code",
   "execution_count": 21,
   "metadata": {},
   "outputs": [
    {
     "name": "stdout",
     "output_type": "stream",
     "text": [
      "0\n",
      "1\n",
      "2\n"
     ]
    }
   ],
   "source": [
    "i = 0\n",
    "\n",
    "while i < 5:\n",
    "\n",
    "  print(i)\n",
    "\n",
    "  i += 1\n",
    "\n",
    "  if i == 3:\n",
    "\n",
    "    break\n",
    "\n",
    "else:\n",
    "\n",
    "  print(0)"
   ]
  },
  {
   "cell_type": "code",
   "execution_count": 22,
   "metadata": {},
   "outputs": [
    {
     "data": {
      "text/plain": [
       "16"
      ]
     },
     "execution_count": 22,
     "metadata": {},
     "output_type": "execute_result"
    }
   ],
   "source": [
    "2 * 2 **3"
   ]
  },
  {
   "cell_type": "code",
   "execution_count": 23,
   "metadata": {},
   "outputs": [
    {
     "name": "stdout",
     "output_type": "stream",
     "text": [
      "1\n"
     ]
    }
   ],
   "source": [
    "def f(): \n",
    "\n",
    "  x=4\n",
    "\n",
    "x=1\n",
    "\n",
    "f()\n",
    "\n",
    "print(x)"
   ]
  },
  {
   "cell_type": "code",
   "execution_count": 24,
   "metadata": {},
   "outputs": [
    {
     "data": {
      "text/plain": [
       "4"
      ]
     },
     "execution_count": 24,
     "metadata": {},
     "output_type": "execute_result"
    }
   ],
   "source": [
    "len([\"hello\",2, 4, 6])"
   ]
  },
  {
   "cell_type": "code",
   "execution_count": 25,
   "metadata": {},
   "outputs": [
    {
     "ename": "TypeError",
     "evalue": "'tuple' object does not support item assignment",
     "output_type": "error",
     "traceback": [
      "\u001b[1;31m---------------------------------------------------------------------------\u001b[0m",
      "\u001b[1;31mTypeError\u001b[0m                                 Traceback (most recent call last)",
      "\u001b[1;32mc:\\Users\\dell\\Desktop\\code\\Python\\UNIT-3 (exception handling)\\exception handling.ipynb Cell 40'\u001b[0m in \u001b[0;36m<module>\u001b[1;34m\u001b[0m\n\u001b[0;32m      <a href='vscode-notebook-cell:/c%3A/Users/dell/Desktop/code/Python/UNIT-3%20%28exception%20handling%29/exception%20handling.ipynb#ch0000040?line=0'>1</a>\u001b[0m a \u001b[39m=\u001b[39m (\u001b[39m1\u001b[39m, \u001b[39m2\u001b[39m)\n\u001b[1;32m----> <a href='vscode-notebook-cell:/c%3A/Users/dell/Desktop/code/Python/UNIT-3%20%28exception%20handling%29/exception%20handling.ipynb#ch0000040?line=2'>3</a>\u001b[0m a[\u001b[39m0\u001b[39m] \u001b[39m+\u001b[39m\u001b[39m=\u001b[39m\u001b[39m1\u001b[39m\n",
      "\u001b[1;31mTypeError\u001b[0m: 'tuple' object does not support item assignment"
     ]
    }
   ],
   "source": [
    "a = (1, 2)\n",
    "\n",
    "a[0] +=1"
   ]
  },
  {
   "cell_type": "code",
   "execution_count": 19,
   "metadata": {},
   "outputs": [
    {
     "name": "stdout",
     "output_type": "stream",
     "text": [
      "1+4+9+"
     ]
    }
   ],
   "source": [
    "a = [1,2,3]\n",
    "\n",
    "for i in a:\n",
    "\n",
    " print(i**2, end = '+')"
   ]
  },
  {
   "cell_type": "code",
   "execution_count": 26,
   "metadata": {},
   "outputs": [
    {
     "name": "stdout",
     "output_type": "stream",
     "text": [
      "True\n",
      "False\n",
      "False\n",
      "False\n"
     ]
    }
   ],
   "source": [
    "a={4,5}\n",
    "b={1,2,4,5}\n",
    "print(a<b)\n",
    "print(a==b)\n",
    "print(a is b)\n",
    "print(a in b)"
   ]
  },
  {
   "cell_type": "code",
   "execution_count": 27,
   "metadata": {},
   "outputs": [
    {
     "ename": "KeyError",
     "evalue": "0",
     "output_type": "error",
     "traceback": [
      "\u001b[1;31m---------------------------------------------------------------------------\u001b[0m",
      "\u001b[1;31mKeyError\u001b[0m                                  Traceback (most recent call last)",
      "\u001b[1;32mc:\\Users\\dell\\Desktop\\code\\Python\\UNIT-3 (exception handling)\\exception handling.ipynb Cell 43'\u001b[0m in \u001b[0;36m<module>\u001b[1;34m\u001b[0m\n\u001b[0;32m      <a href='vscode-notebook-cell:/c%3A/Users/dell/Desktop/code/Python/UNIT-3%20%28exception%20handling%29/exception%20handling.ipynb#ch0000042?line=0'>1</a>\u001b[0m d1\u001b[39m=\u001b[39m{\u001b[39m\"\u001b[39m\u001b[39mabc\u001b[39m\u001b[39m\"\u001b[39m:\u001b[39m5\u001b[39m,\u001b[39m\"\u001b[39m\u001b[39mdef\u001b[39m\u001b[39m\"\u001b[39m:\u001b[39m6\u001b[39m,\u001b[39m\"\u001b[39m\u001b[39mghi\u001b[39m\u001b[39m\"\u001b[39m:\u001b[39m7\u001b[39m}\n\u001b[1;32m----> <a href='vscode-notebook-cell:/c%3A/Users/dell/Desktop/code/Python/UNIT-3%20%28exception%20handling%29/exception%20handling.ipynb#ch0000042?line=1'>2</a>\u001b[0m \u001b[39mprint\u001b[39m(d1[\u001b[39m0\u001b[39;49m])\n",
      "\u001b[1;31mKeyError\u001b[0m: 0"
     ]
    }
   ],
   "source": [
    "d1={\"abc\":5,\"def\":6,\"ghi\":7}\n",
    "print(d1[0])"
   ]
  },
  {
   "cell_type": "code",
   "execution_count": 28,
   "metadata": {},
   "outputs": [
    {
     "name": "stdout",
     "output_type": "stream",
     "text": [
      "{2, 3}\n"
     ]
    }
   ],
   "source": [
    "set1={2,5,3}\n",
    "set2={3,1,2}\n",
    "set3={}\n",
    "set3=set1 &set2\n",
    "print(set3)"
   ]
  },
  {
   "cell_type": "code",
   "execution_count": 29,
   "metadata": {},
   "outputs": [
    {
     "name": "stdout",
     "output_type": "stream",
     "text": [
      "[0, 1, 2, 3, 4, 5, 6, 7, 8, 9]\n"
     ]
    }
   ],
   "source": [
    "a = [i for i in range(10)]\n",
    "\n",
    "print(a)"
   ]
  }
 ],
 "metadata": {
  "interpreter": {
   "hash": "c7af7df4901773a0e355da496bf365ae011b1b331a57bbc9908dae1ee21823d7"
  },
  "kernelspec": {
   "display_name": "Python 3.10.4 64-bit",
   "language": "python",
   "name": "python3"
  },
  "language_info": {
   "codemirror_mode": {
    "name": "ipython",
    "version": 3
   },
   "file_extension": ".py",
   "mimetype": "text/x-python",
   "name": "python",
   "nbconvert_exporter": "python",
   "pygments_lexer": "ipython3",
   "version": "3.10.4"
  },
  "orig_nbformat": 4
 },
 "nbformat": 4,
 "nbformat_minor": 2
}
