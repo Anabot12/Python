{
 "cells": [
  {
   "cell_type": "code",
   "execution_count": 3,
   "metadata": {},
   "outputs": [
    {
     "name": "stdout",
     "output_type": "stream",
     "text": [
      "this is a simple function with no parameters\n"
     ]
    }
   ],
   "source": [
    "#functions in python\n",
    "#Functions are define using keyword def\n",
    "#Function defination is terminated by semicolon and interpreter\n",
    "# identify the body of function by identation \n",
    "\n",
    "#simple example of function\n",
    "def demo():\n",
    "    print(\"this is a simple function with no parameters\")\n",
    "demo() # function calling"
   ]
  },
  {
   "cell_type": "code",
   "execution_count": 4,
   "metadata": {},
   "outputs": [
    {
     "name": "stdout",
     "output_type": "stream",
     "text": [
      "list=[1, 2, 3, 4]\n"
     ]
    }
   ],
   "source": [
    "# passing list as a parameter \n",
    "def demo_list(a):\n",
    "    print(f\"list={a}\")\n",
    "a=[1,2,3,4] # giving value to a \n",
    "demo_list(a) # function calling\n",
    "\n",
    "# collections canbe passed as parameters\n"
   ]
  },
  {
   "cell_type": "code",
   "execution_count": 5,
   "metadata": {},
   "outputs": [
    {
     "name": "stdout",
     "output_type": "stream",
     "text": [
      "['12', '23', '34']\n",
      "now no duplicates in ['23', '12', '34']\n"
     ]
    }
   ],
   "source": [
    "# QUESTION: pass a user define list with 4 items into a function as parameter. And in function body remove the duplicate elements (if any)\n",
    "# and display the update list\n",
    "\n",
    "#we will use append function to add element in the list\n",
    "\n",
    "def demo_list(a):\n",
    "    b=set(a)\n",
    "    a=list(b)\n",
    "    print(f\"now no duplicates in {a}\")\n",
    "    \n",
    "a=[]\n",
    "for i in range(0,3):\n",
    "    a.append(input())\n",
    "print(a)\n",
    "demo_list(a)\n"
   ]
  }
 ],
 "metadata": {
  "interpreter": {
   "hash": "fa123eaa61a8c39ba75508446fe6ec79af2f89993319b1084b63f1d92867e8b6"
  },
  "kernelspec": {
   "display_name": "Python 3.10.2 64-bit",
   "language": "python",
   "name": "python3"
  },
  "language_info": {
   "codemirror_mode": {
    "name": "ipython",
    "version": 3
   },
   "file_extension": ".py",
   "mimetype": "text/x-python",
   "name": "python",
   "nbconvert_exporter": "python",
   "pygments_lexer": "ipython3",
   "version": "3.10.2"
  },
  "orig_nbformat": 4
 },
 "nbformat": 4,
 "nbformat_minor": 2
}
