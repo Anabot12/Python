{
 "cells": [
  {
   "cell_type": "code",
   "execution_count": 2,
   "metadata": {},
   "outputs": [
    {
     "name": "stdout",
     "output_type": "stream",
     "text": [
      "hi\n",
      "hi\n"
     ]
    }
   ],
   "source": [
    "# IF STATEMENT\n",
    "a=100\n",
    "b=200\n",
    "if a>b: # programmer should mind the identation\n",
    "    print('hello')\n",
    "else: \n",
    "    print(\"hi\")\n",
    "print(\"hello\") if a>b else print (\"hi\")  #one line code\n"
   ]
  },
  {
   "cell_type": "code",
   "execution_count": 1,
   "metadata": {},
   "outputs": [
    {
     "name": "stdout",
     "output_type": "stream",
     "text": [
      "two\n"
     ]
    }
   ],
   "source": [
    "#ELIF STATEMENT \n",
    "c= int(input(\"number between 1 to 3=\"))\n",
    "if c==1:\n",
    "    print(\"one\")\n",
    "elif c==2 :\n",
    "    print(\"two\")\n",
    "elif c==3:\n",
    "    print(\"three\")\n",
    "else:\n",
    "    print(\"wrong output\")\n",
    "    "
   ]
  }
 ],
 "metadata": {
  "interpreter": {
   "hash": "fa123eaa61a8c39ba75508446fe6ec79af2f89993319b1084b63f1d92867e8b6"
  },
  "kernelspec": {
   "display_name": "Python 3.10.2 64-bit",
   "language": "python",
   "name": "python3"
  },
  "language_info": {
   "codemirror_mode": {
    "name": "ipython",
    "version": 3
   },
   "file_extension": ".py",
   "mimetype": "text/x-python",
   "name": "python",
   "nbconvert_exporter": "python",
   "pygments_lexer": "ipython3",
   "version": "3.10.2"
  },
  "orig_nbformat": 4
 },
 "nbformat": 4,
 "nbformat_minor": 2
}
