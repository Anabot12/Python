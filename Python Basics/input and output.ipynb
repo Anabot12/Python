{
 "cells": [
  {
   "cell_type": "code",
   "execution_count": 1,
   "metadata": {},
   "outputs": [
    {
     "name": "stdout",
     "output_type": "stream",
     "text": [
      "2\n",
      "<class 'str'>\n"
     ]
    }
   ],
   "source": [
    "a = input(\"Enter a number\")\n",
    "print(a)\n",
    "print(type(a))"
   ]
  },
  {
   "cell_type": "code",
   "execution_count": null,
   "metadata": {},
   "outputs": [],
   "source": [
    "b = int(input(\"Enter a number\")) # int is used for type casting string to integer\n",
    "print(b)\n",
    "print(type(b))"
   ]
  },
  {
   "cell_type": "code",
   "execution_count": null,
   "metadata": {},
   "outputs": [],
   "source": [
    "b = float(input(\"Enter a number\")) # int is used for type casting string to float\n",
    "print(b)\n",
    "print(type(b))"
   ]
  },
  {
   "cell_type": "code",
   "execution_count": null,
   "metadata": {},
   "outputs": [],
   "source": [
    "# syntax : print(value(s), sep= ' ', end='\\n' file=file flush=flush)\n",
    "# flush clears the data from input/output buffer or stack. Does not return anything\n",
    "\n",
    "print (\"Hello World\", \"This is Akshit\", sep= ' @ ', end=' ### \\n' )"
   ]
  },
  {
   "cell_type": "code",
   "execution_count": 1,
   "metadata": {},
   "outputs": [
    {
     "name": "stdout",
     "output_type": "stream",
     "text": [
      "<class 'int'> <class 'float'>\n",
      "<class 'float'> <class 'float'>\n"
     ]
    }
   ],
   "source": [
    "# implicit and explicit conversion\n",
    "x = 3\n",
    "y = 3.5\n",
    "print(type(x), type(y))\n",
    "\n",
    "x = x + y # implicit conversion (lower to higher)\n",
    "print(type(x), type(y))"
   ]
  },
  {
   "cell_type": "code",
   "execution_count": 3,
   "metadata": {},
   "outputs": [
    {
     "name": "stdout",
     "output_type": "stream",
     "text": [
      "123 <class 'int'>\n",
      "123.0 <class 'float'>\n",
      "123 <class 'str'>\n",
      "(456+66j) <class 'complex'>\n"
     ]
    }
   ],
   "source": [
    "# explicit conversion\n",
    "a = \"123\"\n",
    "b = 456\n",
    "c = 66\n",
    "\n",
    "i = int(a); # ; used for explicit conversion\n",
    "print(i, type(i))\n",
    "\n",
    "f = float(a);\n",
    "print(f, type(f))\n",
    "\n",
    "s = str(a);\n",
    "print(s, type(s))\n",
    "\n",
    "com = complex(b, c)\n",
    "print(com, type(com))"
   ]
  }
 ],
 "metadata": {
  "interpreter": {
   "hash": "fa123eaa61a8c39ba75508446fe6ec79af2f89993319b1084b63f1d92867e8b6"
  },
  "kernelspec": {
   "display_name": "Python 3.10.2 64-bit",
   "language": "python",
   "name": "python3"
  },
  "language_info": {
   "codemirror_mode": {
    "name": "ipython",
    "version": 3
   },
   "file_extension": ".py",
   "mimetype": "text/x-python",
   "name": "python",
   "nbconvert_exporter": "python",
   "pygments_lexer": "ipython3",
   "version": "3.10.2"
  },
  "orig_nbformat": 4
 },
 "nbformat": 4,
 "nbformat_minor": 2
}
