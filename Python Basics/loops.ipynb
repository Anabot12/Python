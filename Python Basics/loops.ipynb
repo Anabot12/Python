{
 "cells": [
  {
   "cell_type": "code",
   "execution_count": 1,
   "metadata": {},
   "outputs": [
    {
     "name": "stdout",
     "output_type": "stream",
     "text": [
      "0\n",
      "1\n",
      "2\n",
      "3\n",
      "4\n"
     ]
    }
   ],
   "source": [
    "#WHILE LOOP\n",
    "i=0\n",
    "while (i<5):\n",
    "    print(i)\n",
    "    i=i+1  #python doesnt support post and pre increment \n",
    "    "
   ]
  },
  {
   "cell_type": "code",
   "execution_count": 5,
   "metadata": {},
   "outputs": [
    {
     "name": "stdout",
     "output_type": "stream",
     "text": [
      "hello hello hello hello hi hi hi hi indian indian citizen citizen "
     ]
    }
   ],
   "source": [
    "# FOR LOOP\n",
    "for i in range(1,5):# will iterate from i=1 to 4\n",
    "    print(\"hello\", end=' ') # in print statement end= is equal to /n\n",
    "for i in range( 5,1,-1):# 5 to 1 and step value of -1 (5-1=4 and so on) and will print 4 times only\n",
    "    print(\"hi\",end =' ')\n",
    "for i in range ( 1,5,2): # this is a reverse order and then from 5 the step value will be 5 then 3 then 1\n",
    "    print(\"indian\", end=' ')    \n",
    "for i in range( 5,1,-2):\n",
    "    print(\"citizen\",end=' ')    "
   ]
  }
 ],
 "metadata": {
  "interpreter": {
   "hash": "fa123eaa61a8c39ba75508446fe6ec79af2f89993319b1084b63f1d92867e8b6"
  },
  "kernelspec": {
   "display_name": "Python 3.10.2 64-bit",
   "language": "python",
   "name": "python3"
  },
  "language_info": {
   "codemirror_mode": {
    "name": "ipython",
    "version": 3
   },
   "file_extension": ".py",
   "mimetype": "text/x-python",
   "name": "python",
   "nbconvert_exporter": "python",
   "pygments_lexer": "ipython3",
   "version": "3.10.2"
  },
  "orig_nbformat": 4
 },
 "nbformat": 4,
 "nbformat_minor": 2
}
