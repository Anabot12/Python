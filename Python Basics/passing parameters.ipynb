{
 "cells": [
  {
   "cell_type": "code",
   "execution_count": 7,
   "metadata": {},
   "outputs": [
    {
     "name": "stdout",
     "output_type": "stream",
     "text": [
      "('hello', 'how', 'are', 'you')\n"
     ]
    }
   ],
   "source": [
    "#UNKNOWN PARAMETERS \n",
    "#if parameters are unknown that just add *symbol in the parameter mention in function def\n",
    "# the printed output is in the form of tuple enclosed ()of parameters passed during function\n",
    "\n",
    "def unknown_para(*p):\n",
    "    print(p)\n",
    "unknown_para(\"hello\", \"how\",\"are\",\"you\")\n"
   ]
  },
  {
   "cell_type": "code",
   "execution_count": 8,
   "metadata": {},
   "outputs": [
    {
     "name": "stdout",
     "output_type": "stream",
     "text": [
      "hello\n",
      "how\n",
      "are\n",
      "you\n",
      "hello\n",
      "how\n",
      "are\n",
      "you\n"
     ]
    }
   ],
   "source": [
    "#print the passed parameters one by one using for loop\n",
    "\n",
    "def unknown_para(*p):\n",
    "    for i in range(len(p)):\n",
    "        print(p[i])\n",
    "unknown_para(\"hello\",\"how\",\"are\",\"you\")\n",
    "\n",
    "\n",
    "#to write this in one line\n",
    "def unknown_para(*p):\n",
    "    [print(p[i])for i in range(len(p))]\n",
    "unknown_para(\"hello\",\"how\",\"are\",\"you\")\n",
    "           "
   ]
  },
  {
   "cell_type": "code",
   "execution_count": 9,
   "metadata": {},
   "outputs": [
    {
     "name": "stdout",
     "output_type": "stream",
     "text": [
      "you how hello are\n"
     ]
    }
   ],
   "source": [
    "#Passing parameters using keyword\n",
    "#function call can be specified as key=value where key is the parameter name in function def\n",
    "#keyword parameter passing method, the names of parameter in func def should be known beforehand  \n",
    "\n",
    "\n",
    "def keyword_para(a,b,c,d):\n",
    "    print(a,b,c,d)\n",
    "keyword_para(c=\"hello\", b=\"how\", d=\"are\", a=\"you\")\n"
   ]
  },
  {
   "cell_type": "code",
   "execution_count": 10,
   "metadata": {},
   "outputs": [
    {
     "name": "stdout",
     "output_type": "stream",
     "text": [
      "hello how you are\n"
     ]
    }
   ],
   "source": [
    "#keyword parameter can follow positional parameter\n",
    "\n",
    "def keyword_para(a,b,c,d):\n",
    "    print(a,b,c,d)\n",
    "keyword_para(\"hello\",\"how\",d=\"are\",c=\"you\")"
   ]
  },
  {
   "cell_type": "code",
   "execution_count": 1,
   "metadata": {},
   "outputs": [
    {
     "name": "stdout",
     "output_type": "stream",
     "text": [
      "<class 'tuple'> ('hello', 'how', 'are', 'you')\n"
     ]
    }
   ],
   "source": [
    "#KWARGS\n",
    "# when we pass unknown parameters then the problem can be solved using *parameter\n",
    "#passed parameters create a tuple inside the function defination with same name as parameter\n",
    "# but this rule for using * doesnot work in the case of keyword parameter \n",
    "def unknown_para(*p):\n",
    "    print(type(p),p)\n",
    "unknown_para(\"hello\",\"how\",\"are\",\"you\")                           "
   ]
  },
  {
   "cell_type": "code",
   "execution_count": 2,
   "metadata": {},
   "outputs": [
    {
     "name": "stdout",
     "output_type": "stream",
     "text": [
      "4\n",
      "{'a': 1, 'b': 2, 'c': 3, 'd': 4}\n"
     ]
    }
   ],
   "source": [
    "# double **(astrick) symbol is used with parameter name in the function defination as it \n",
    "#passed parameters create a seprate dictionary inside the function with same name as the para,eter\n",
    "\n",
    "def un_para(**p):\n",
    "    print(len(p))\n",
    "    print(p)\n",
    "un_para(a=1,b=2,c=3,d=4)"
   ]
  }
 ],
 "metadata": {
  "interpreter": {
   "hash": "fa123eaa61a8c39ba75508446fe6ec79af2f89993319b1084b63f1d92867e8b6"
  },
  "kernelspec": {
   "display_name": "Python 3.10.2 64-bit",
   "language": "python",
   "name": "python3"
  },
  "language_info": {
   "codemirror_mode": {
    "name": "ipython",
    "version": 3
   },
   "file_extension": ".py",
   "mimetype": "text/x-python",
   "name": "python",
   "nbconvert_exporter": "python",
   "pygments_lexer": "ipython3",
   "version": "3.10.2"
  },
  "orig_nbformat": 4
 },
 "nbformat": 4,
 "nbformat_minor": 2
}
