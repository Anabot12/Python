{
 "cells": [
  {
   "cell_type": "code",
   "execution_count": null,
   "metadata": {},
   "outputs": [],
   "source": [
    "# EXPERIMENT 3 PYTHON LAB"
   ]
  },
  {
   "cell_type": "code",
   "execution_count": 5,
   "metadata": {},
   "outputs": [
    {
     "name": "stdout",
     "output_type": "stream",
     "text": [
      "enter the name and age of student0:\n",
      "enter the name and age of student1:\n",
      "enter the name and age of student2:\n",
      "enter the name and age of student3:\n",
      "enter the name and age of student4:\n",
      "('ananya', '18 years')\n",
      "('akshit', '18 years')\n",
      "('anhad', '18 years')\n",
      "('astitva ', '18 years')\n",
      "('dikshant', '18 years')\n"
     ]
    }
   ],
   "source": [
    "#Write a program to create a dictionary having record(name,age) of 5 students. Enter the record at runtime using for loop.\n",
    "\n",
    "S={}\n",
    "for i in range(5):\n",
    "    print(f\"enter the name and age of student{i}:\")\n",
    "    name=input()\n",
    "    age= input()\n",
    "    S[name]=age\n",
    "for i in S.items():\n",
    "    print(i)\n",
    "    "
   ]
  },
  {
   "cell_type": "code",
   "execution_count": 4,
   "metadata": {},
   "outputs": [
    {
     "name": "stdout",
     "output_type": "stream",
     "text": [
      "Marks entered :  [23, 45, 45, 67]\n",
      "Score of Runner up is :  45\n"
     ]
    }
   ],
   "source": [
    "#Q2. WAP to input a list of scores for N students in a list data type. Find the score of the runner-up and print the output\n",
    "\n",
    "\n",
    "n = int(input(\"Enter the number of students : \"))\n",
    "score = list(map(int, input(\"Enter the scores : \").split()))\n",
    "for i in range (n):\n",
    "    score.sort()\n",
    "print(\"Marks entered : \", score)\n",
    "print(\"Score of Runner up is : \", score[-2])\n"
   ]
  },
  {
   "cell_type": "code",
   "execution_count": 7,
   "metadata": {},
   "outputs": [
    {
     "name": "stdout",
     "output_type": "stream",
     "text": [
      "The List after removing duplicate is [1, 2, 3, 4, 5]\n"
     ]
    }
   ],
   "source": [
    "#Q3 A=[1,2,3,4,5,3,2,1] write a program to remove all duplicates (without converting into set) from the list A.\n",
    "\n",
    "a=[1,2,3,4,5,3,2,1]\n",
    "b=[]\n",
    "for i in a:\n",
    "    if i not in b:\n",
    "        b.append(i)\n",
    "print(\"The List after removing duplicate is\",b)\n"
   ]
  }
 ],
 "metadata": {
  "interpreter": {
   "hash": "fa123eaa61a8c39ba75508446fe6ec79af2f89993319b1084b63f1d92867e8b6"
  },
  "kernelspec": {
   "display_name": "Python 3.10.2 64-bit",
   "language": "python",
   "name": "python3"
  },
  "language_info": {
   "codemirror_mode": {
    "name": "ipython",
    "version": 3
   },
   "file_extension": ".py",
   "mimetype": "text/x-python",
   "name": "python",
   "nbconvert_exporter": "python",
   "pygments_lexer": "ipython3",
   "version": "3.10.2"
  },
  "orig_nbformat": 4
 },
 "nbformat": 4,
 "nbformat_minor": 2
}
