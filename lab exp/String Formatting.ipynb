{
 "cells": [
  {
   "cell_type": "code",
   "execution_count": null,
   "metadata": {},
   "outputs": [],
   "source": [
    "  #EXPERIMENT 1 PYTHON LAB"
   ]
  },
  {
   "cell_type": "code",
   "execution_count": null,
   "metadata": {},
   "outputs": [],
   "source": [
    "#STRING FORMATTING\n",
    "#1. USING FORMAT() METHOD\n",
    "#2. USING % OPERATOR\n",
    "#3. USING F-STRING "
   ]
  },
  {
   "cell_type": "code",
   "execution_count": 8,
   "metadata": {},
   "outputs": [
    {
     "name": "stdout",
     "output_type": "stream",
     "text": [
      "My name is Ananya, I'm 18 My name is Ananya, I'm 18 My name is Ananya, I'm 18\n"
     ]
    }
   ],
   "source": [
    "#1.USING FORMAT()METHOD \n",
    "\n",
    "S1 = \"My name is {fname}, I'm {age}\".format(fname = \"Ananya\", age = 18)\n",
    "S2 = \"My name is {0}, I'm {1}\".format(\"Ananya\",18)\n",
    "S3 = \"My name is {}, I'm {}\".format(\"Ananya\",18)\n",
    "\n",
    "print (S1, S2, S3 )\n"
   ]
  },
  {
   "cell_type": "code",
   "execution_count": 2,
   "metadata": {},
   "outputs": [
    {
     "name": "stdout",
     "output_type": "stream",
     "text": [
      "hello :  1, world :  5.33\n",
      "Total students : 240, Boys : 120 , Girls : 120\n",
      "031\n",
      " 3.561E+02\n"
     ]
    }
   ],
   "source": [
    "#2. USING % OPERATOR\n",
    "\n",
    "# print integer and float value\n",
    "print(\"hello : %2d, world : %5.2f\" % (1, 05.333))\n",
    " \n",
    "# print integer value\n",
    "print(\"Total students : %3d, Boys : %2d , Girls : %2d\"%(240, 120,120))\n",
    " \n",
    "# print octal value\n",
    "print(\"%2.3o\" % (25))\n",
    " \n",
    "# print exponential value\n",
    "print(\"%10.3E\" % (356.08977))\n"
   ]
  },
  {
   "cell_type": "code",
   "execution_count": 4,
   "metadata": {},
   "outputs": [
    {
     "name": "stdout",
     "output_type": "stream",
     "text": [
      "hello i am python\n",
      "4x3=12\n",
      "i have 1000 rupees\n"
     ]
    }
   ],
   "source": [
    "#3. USING F STRING \n",
    "a=1000\n",
    "s=\"python\"\n",
    "print(f\"hello i am {s}\")\n",
    "print(f\"4x3={4*3}\")\n",
    "print(f\"i have {a} rupees\")"
   ]
  }
 ],
 "metadata": {
  "kernelspec": {
   "display_name": "Python 3.10.4 64-bit",
   "language": "python",
   "name": "python3"
  },
  "language_info": {
   "codemirror_mode": {
    "name": "ipython",
    "version": 3
   },
   "file_extension": ".py",
   "mimetype": "text/x-python",
   "name": "python",
   "nbconvert_exporter": "python",
   "pygments_lexer": "ipython3",
   "version": "3.10.4"
  },
  "orig_nbformat": 4,
  "vscode": {
   "interpreter": {
    "hash": "c7af7df4901773a0e355da496bf365ae011b1b331a57bbc9908dae1ee21823d7"
   }
  }
 },
 "nbformat": 4,
 "nbformat_minor": 2
}
