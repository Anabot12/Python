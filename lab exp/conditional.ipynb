{
 "cells": [
  {
   "cell_type": "code",
   "execution_count": null,
   "metadata": {},
   "outputs": [],
   "source": [
    "  #EXPERIMENT 2 PYTHON LAB"
   ]
  },
  {
   "cell_type": "code",
   "execution_count": 5,
   "metadata": {},
   "outputs": [
    {
     "name": "stdout",
     "output_type": "stream",
     "text": [
      "EVEN3\n"
     ]
    }
   ],
   "source": [
    "#Q1.GIVEN AN INTEGER n PERFORM THE FOLLOWING CONDITIONAL ACTIONS:\n",
    "#1. If n is odd, print ODD\n",
    "#2. If n is even and in the inclusive range of 2  to 5 , print EVEN1\n",
    "#3. If  n is even and in the inclusive range of  6 to 20, print EVEN2\n",
    "#4. If n is even and greater than 20, print EVEN3\n",
    "n = int(input ('enter a number'))\n",
    "if n % 2 != 0:\n",
    "    print (\"ODD\")\n",
    "else:\n",
    "    if n >= 2 and n <= 5:\n",
    "        print(\"EVEN1\")\n",
    "    elif n >= 6 and n <= 20:\n",
    "        print (\"EVEN2\")\n",
    "    elif n > 20:\n",
    "        print(\"EVEN3\")\n"
   ]
  },
  {
   "cell_type": "code",
   "execution_count": 11,
   "metadata": {},
   "outputs": [
    {
     "name": "stdout",
     "output_type": "stream",
     "text": [
      "0\n",
      "1\n",
      "4\n",
      "9\n"
     ]
    }
   ],
   "source": [
    "#Q2. WAP to read an integer ‘n’ from STDIN. For all non-negative integers i<n, print i2 on a separate line. \n",
    "N = int(input('enter your number'))\n",
    "for i in range(N):\n",
    "    print (i * i)"
   ]
  },
  {
   "cell_type": "code",
   "execution_count": 14,
   "metadata": {},
   "outputs": [
    {
     "name": "stdout",
     "output_type": "stream",
     "text": [
      "0123456"
     ]
    }
   ],
   "source": [
    "#WAP to read an integer from STDIN. Without using any string methods, print the following on a single line:\n",
    "#123...N\n",
    "N = int(input('enter your number'))\n",
    "for i in range(N):\n",
    "    print (i,end= '')"
   ]
  }
 ],
 "metadata": {
  "kernelspec": {
   "display_name": "Python 3.10.4 64-bit",
   "language": "python",
   "name": "python3"
  },
  "language_info": {
   "codemirror_mode": {
    "name": "ipython",
    "version": 3
   },
   "file_extension": ".py",
   "mimetype": "text/x-python",
   "name": "python",
   "nbconvert_exporter": "python",
   "pygments_lexer": "ipython3",
   "version": "3.10.4"
  },
  "orig_nbformat": 4,
  "vscode": {
   "interpreter": {
    "hash": "c7af7df4901773a0e355da496bf365ae011b1b331a57bbc9908dae1ee21823d7"
   }
  }
 },
 "nbformat": 4,
 "nbformat_minor": 2
}
