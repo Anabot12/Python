{
 "cells": [
  {
   "cell_type": "code",
   "execution_count": null,
   "metadata": {},
   "outputs": [],
   "source": [
    "#EXPERIMENT 4 LAB "
   ]
  },
  {
   "cell_type": "code",
   "execution_count": 1,
   "metadata": {},
   "outputs": [
    {
     "name": "stdout",
     "output_type": "stream",
     "text": [
      "name 'pirnt' is not defined\n"
     ]
    }
   ],
   "source": [
    "#FOR QUESTIONS\n",
    "try:\n",
    "    pirnt(\"hello\")\n",
    "except NameError as a:\n",
    "    print(a)"
   ]
  },
  {
   "cell_type": "code",
   "execution_count": 2,
   "metadata": {},
   "outputs": [
    {
     "name": "stdout",
     "output_type": "stream",
     "text": [
      "can only concatenate str (not \"int\") to str\n"
     ]
    }
   ],
   "source": [
    "#value error \n",
    "try:\n",
    "    x=100\n",
    "    y=\"hello\"+x\n",
    "except (IndexError,NameError,ValueError,TypeError) as error:\n",
    "    print(error)\n",
    "else:\n",
    "    print(y)"
   ]
  },
  {
   "cell_type": "code",
   "execution_count": 4,
   "metadata": {},
   "outputs": [
    {
     "name": "stdout",
     "output_type": "stream",
     "text": [
      "list index out of range\n"
     ]
    }
   ],
   "source": [
    "#index error\n",
    "try:\n",
    "    A=[1,2,3]\n",
    "    print(A[5])\n",
    "except IndexError as e:\n",
    "    print(e)"
   ]
  },
  {
   "cell_type": "code",
   "execution_count": 3,
   "metadata": {},
   "outputs": [
    {
     "name": "stdout",
     "output_type": "stream",
     "text": [
      "Exception Occurred\n",
      "Default value taken as 100\n"
     ]
    }
   ],
   "source": [
    "#q.1\n",
    "def defaultfunc():\n",
    "    a = 100\n",
    "    print(f\"Default value taken as {a}\")\n",
    "\n",
    "try :\n",
    "    a = int(input(\"Enter a Number less than 10 \"))\n",
    "    if(a < 10):\n",
    "        print(a)\n",
    "    else :\n",
    "      raise Exception(\"Number is greater than 10\")\n",
    "      \n",
    "except:\n",
    "    print(\"Exception Occurred\")\n",
    "    defaultfunc()"
   ]
  },
  {
   "cell_type": "code",
   "execution_count": 5,
   "metadata": {},
   "outputs": [
    {
     "name": "stdout",
     "output_type": "stream",
     "text": [
      "math domain error\n"
     ]
    }
   ],
   "source": [
    "#value error \n",
    "import math\n",
    "try:\n",
    "    a=math.sqrt(-10)\n",
    "except ValueError as e:\n",
    "    print(e)\n",
    "else:\n",
    "    print(a)"
   ]
  },
  {
   "cell_type": "code",
   "execution_count": 7,
   "metadata": {},
   "outputs": [
    {
     "name": "stdout",
     "output_type": "stream",
     "text": [
      "math range error\n"
     ]
    }
   ],
   "source": [
    "#overflow error \n",
    "import math\n",
    "try:\n",
    "    A=int(input(\"enter a number\"))\n",
    "    print(math.exp(A))\n",
    "except OverflowError as e:\n",
    "    print(e)\n",
    "else:\n",
    "    print(A)\n"
   ]
  },
  {
   "cell_type": "code",
   "execution_count": 8,
   "metadata": {},
   "outputs": [
    {
     "name": "stdout",
     "output_type": "stream",
     "text": [
      "exception occured \n",
      "default value taken as 100\n"
     ]
    }
   ],
   "source": [
    "#raise keyword\n",
    "def defaultfunc():\n",
    "    a=100\n",
    "    print(f\"default value taken as {a}\")\n",
    "try:\n",
    "    a=int(input(\"enter a number less than 10\"))\n",
    "    if (a<10):\n",
    "        print(a)\n",
    "    else:\n",
    "        raise Exception(\"Number is greater than 10\")\n",
    "except:\n",
    "    print(\"exception occured \")\n",
    "    defaultfunc()    "
   ]
  },
  {
   "cell_type": "code",
   "execution_count": 12,
   "metadata": {},
   "outputs": [
    {
     "name": "stdout",
     "output_type": "stream",
     "text": [
      "5\n",
      "5\n",
      "7\n",
      "4\n",
      "5\n"
     ]
    }
   ],
   "source": [
    "#q.2\n",
    "class NotInRange(ValueError):\n",
    "      pass\n",
    "\n",
    "i = 1\n",
    "while(i<6):\n",
    "  try:\n",
    "        a = int(input(\"Enter a Number in the range 0-8 \"))\n",
    "        if(a>8 or a<0):\n",
    "          raise NotInRange(\"Number Out of Range\")\n",
    "        else :\n",
    "          print(a)\n",
    "\n",
    "  except NotInRange :\n",
    "        print(\"5\")\n",
    "  i=i+1\n",
    "  "
   ]
  },
  {
   "cell_type": "code",
   "execution_count": 2,
   "metadata": {},
   "outputs": [
    {
     "name": "stdout",
     "output_type": "stream",
     "text": [
      "[22]\n",
      "Number entered is a Duplicate Number \n",
      "[22]\n"
     ]
    }
   ],
   "source": [
    "#q.3\n",
    "A = []\n",
    "while(1):\n",
    "  try:\n",
    "      a = int(input(\"Enter A Two-Digit Number \"))\n",
    "      if(a>9 and a <100):\n",
    "          c = 0\n",
    "          for i in A:\n",
    "              if a == i :\n",
    "                  c=c+1\n",
    "          if c>0 :\n",
    "              raise Exception(\"Number entered is a Duplicate Number \")\n",
    "          else:\n",
    "              A.append(a)\n",
    "      else:\n",
    "              raise Exception(\"Number entered is not a Double Digit Number \")  \n",
    "\n",
    "  except Exception as e :\n",
    "      print(e)\n",
    "      break\n",
    "\n",
    "  finally:\n",
    "      print(A)"
   ]
  },
  {
   "cell_type": "code",
   "execution_count": 10,
   "metadata": {},
   "outputs": [
    {
     "name": "stdout",
     "output_type": "stream",
     "text": [
      "Entered Number is smaller than the Range\n"
     ]
    }
   ],
   "source": [
    "#q.4\n",
    "class TooSmallError(Exception):\n",
    "    pass\n",
    "class TooLargeError(Exception):\n",
    "    pass\n",
    "\n",
    "try:\n",
    "    A = int(input(\"Enter a Number in the Range 10 - 20 \"))\n",
    "    if (A>20):\n",
    "        raise TooLargeError(\"Entered Number is bigger than the Range\")\n",
    "    elif (A<10):\n",
    "        raise TooSmallError(\"Entered Number is smaller than the Range\")\n",
    "    else:\n",
    "        print(f\"Number is {A}\")\n",
    "\n",
    "except TooSmallError as e:\n",
    "    print(e)\n",
    "\n",
    "except TooLargeError as e:\n",
    "    print(e)"
   ]
  },
  {
   "cell_type": "code",
   "execution_count": 5,
   "metadata": {},
   "outputs": [
    {
     "name": "stdout",
     "output_type": "stream",
     "text": [
      "Number is greater than 10 \n",
      "Default Number is 100\n"
     ]
    }
   ],
   "source": [
    "#q.5\n",
    "try:\n",
    "  a = int(input(\"Enter a Number less than 10 \"))\n",
    "  assert a > 10 , f\"Number is {a}\"\n",
    "\n",
    "except Exception as e:\n",
    "    print(e)\n",
    "\n",
    "else:\n",
    "    print(\"Number is greater than 10 \\nDefault Number is 100\")"
   ]
  }
 ],
 "metadata": {
  "kernelspec": {
   "display_name": "Python 3.10.4 64-bit",
   "language": "python",
   "name": "python3"
  },
  "language_info": {
   "codemirror_mode": {
    "name": "ipython",
    "version": 3
   },
   "file_extension": ".py",
   "mimetype": "text/x-python",
   "name": "python",
   "nbconvert_exporter": "python",
   "pygments_lexer": "ipython3",
   "version": "3.10.4"
  },
  "orig_nbformat": 4,
  "vscode": {
   "interpreter": {
    "hash": "c7af7df4901773a0e355da496bf365ae011b1b331a57bbc9908dae1ee21823d7"
   }
  }
 },
 "nbformat": 4,
 "nbformat_minor": 2
}
